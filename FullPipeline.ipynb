{
 "cells": [
  {
   "cell_type": "code",
   "execution_count": 16,
   "metadata": {},
   "outputs": [],
   "source": [
    "%run Extract.ipynb\n"
   ]
  },
  {
   "cell_type": "code",
   "execution_count": 17,
   "metadata": {},
   "outputs": [],
   "source": [
    "%run Transform_separate.ipynb\n"
   ]
  },
  {
   "cell_type": "code",
   "execution_count": 18,
   "metadata": {},
   "outputs": [],
   "source": [
    "\n",
    "%run Transform_merged.ipynb\n"
   ]
  },
  {
   "cell_type": "code",
   "execution_count": 19,
   "metadata": {},
   "outputs": [
    {
     "name": "stdout",
     "output_type": "stream",
     "text": [
      "263\n",
      "e\n",
      "   product_id                                    product     mail_class    fy  \\\n",
      "0         263  Total Marketing Mail (incl International)  Summary Other  2011   \n",
      "\n",
      "   volume       revenue  attributable_cost  \n",
      "0       0 -39301.999992                  0  \n",
      "2011 total MM revenue is an error in the source data\n",
      "****************************************************************************************\n",
      "no duplicates found\n"
     ]
    }
   ],
   "source": [
    "%run ErrorReporting.ipynb"
   ]
  },
  {
   "cell_type": "code",
   "execution_count": 20,
   "metadata": {},
   "outputs": [
    {
     "name": "stdout",
     "output_type": "stream",
     "text": [
      "volume_diff\n",
      "0.0    779\n",
      "Name: count, dtype: int64\n",
      "revenue_diff\n",
      "0.0    970\n",
      "Name: count, dtype: int64\n",
      "attributable_cost_diff\n",
      "0.0    905\n",
      "Name: count, dtype: int64\n"
     ]
    }
   ],
   "source": [
    "%run Load.ipynb"
   ]
  },
  {
   "cell_type": "code",
   "execution_count": null,
   "metadata": {},
   "outputs": [],
   "source": []
  }
 ],
 "metadata": {
  "kernelspec": {
   "display_name": "Python 3",
   "language": "python",
   "name": "python3"
  },
  "language_info": {
   "codemirror_mode": {
    "name": "ipython",
    "version": 3
   },
   "file_extension": ".py",
   "mimetype": "text/x-python",
   "name": "python",
   "nbconvert_exporter": "python",
   "pygments_lexer": "ipython3",
   "version": "3.11.7"
  },
  "orig_nbformat": 4
 },
 "nbformat": 4,
 "nbformat_minor": 2
}
